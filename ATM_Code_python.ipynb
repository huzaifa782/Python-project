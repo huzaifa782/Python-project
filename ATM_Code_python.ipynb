{
 "cells": [
  {
   "cell_type": "code",
   "execution_count": null,
   "id": "c1a1ce88",
   "metadata": {},
   "outputs": [
    {
     "name": "stdout",
     "output_type": "stream",
     "text": [
      "1. Pin_COde 2. Deposit 3.withdraw 4.Display 5.Exit\n",
      "Enter your choice: 1\n",
      "Enter a pin code: 1234\n",
      "Welcome  \n",
      "1. Pin_COde 2. Deposit 3.withdraw 4.Display 5.Exit\n",
      "Enter your choice: 2\n",
      "Enter amount to be Deposit: 2000\n",
      "Amount Sucessfully Deposited: \n",
      "1. Pin_COde 2. Deposit 3.withdraw 4.Display 5.Exit\n",
      "Enter your choice: 3\n",
      "Enter Amount to be Withdraw: 1200\n",
      "Amount Succesfully withdraw: \n",
      "1. Pin_COde 2. Deposit 3.withdraw 4.Display 5.Exit\n",
      "Enter your choice: 4\n",
      "Your Bank Balance is 800.0\n",
      "1. Pin_COde 2. Deposit 3.withdraw 4.Display 5.Exit\n",
      "Enter your choice: 2\n",
      "Enter amount to be Deposit: 2500\n",
      "Amount Sucessfully Deposited: \n",
      "1. Pin_COde 2. Deposit 3.withdraw 4.Display 5.Exit\n",
      "Enter your choice: 4\n",
      "Your Bank Balance is 3300.0\n",
      "1. Pin_COde 2. Deposit 3.withdraw 4.Display 5.Exit\n",
      "Enter your choice: 4\n",
      "Your Bank Balance is 3300.0\n",
      "1. Pin_COde 2. Deposit 3.withdraw 4.Display 5.Exit\n",
      "Enter your choice: 5\n",
      "1. Pin_COde 2. Deposit 3.withdraw 4.Display 5.Exit\n"
     ]
    }
   ],
   "source": [
    "class Bank_account():\n",
    "    def __init__(self):\n",
    "        self.amount=0\n",
    "        \n",
    "    def pin(self,pin_code):\n",
    "        self.pin_code = 1234\n",
    "               \n",
    "    def deposit(self,Amount):\n",
    "        self.amount+=Amount\n",
    "        print(\"Amount Sucessfully Deposited: \")\n",
    "        \n",
    "        \n",
    "    def withdraw(self,Amount):\n",
    "        if(self.amount-Amount>=500):\n",
    "            self.amount-=Amount\n",
    "            print(\"Amount Succesfully withdraw: \")\n",
    "        else:\n",
    "            print(\"Insufficent Balance is 0.\\nyou have to keep atleat Rs.500 in your Account\")\n",
    "    \n",
    "    def display(self):\n",
    "        print(\"Your Bank Balance is\", self.amount)\n",
    "        \n",
    "a = Bank_account()\n",
    "\n",
    "for i in range(0,50):\n",
    "    print(\"1. Pin_COde 2. Deposit 3.withdraw 4.Display 5.Exit\")\n",
    "    \n",
    "    p=int(input(\"Enter your choice: \"))\n",
    "    \n",
    "    if(p==1):\n",
    "        pin_code = int(input(\"Enter a pin code: \"))\n",
    "        a.pin(pin_code)\n",
    "    if(p==2):\n",
    "        Amount=float(input(\"Enter amount to be Deposit: \"))\n",
    "        a.deposit(Amount)\n",
    "        \n",
    "    elif(p==3):\n",
    "        Amount=float(input(\"Enter Amount to be Withdraw: \"))\n",
    "        a.withdraw(Amount)\n",
    "        \n",
    "    elif(p==4):\n",
    "        a.display()\n",
    "        \n",
    "    elif(p==5):\n",
    "        exit()\n",
    "        \n",
    "    else:\n",
    "        print(\"Welcome  \")"
   ]
  },
  {
   "cell_type": "code",
   "execution_count": null,
   "id": "4b2ca3eb",
   "metadata": {},
   "outputs": [],
   "source": []
  },
  {
   "cell_type": "code",
   "execution_count": null,
   "id": "b810b4ca",
   "metadata": {},
   "outputs": [],
   "source": []
  }
 ],
 "metadata": {
  "kernelspec": {
   "display_name": "Python 3 (ipykernel)",
   "language": "python",
   "name": "python3"
  },
  "language_info": {
   "codemirror_mode": {
    "name": "ipython",
    "version": 3
   },
   "file_extension": ".py",
   "mimetype": "text/x-python",
   "name": "python",
   "nbconvert_exporter": "python",
   "pygments_lexer": "ipython3",
   "version": "3.11.5"
  }
 },
 "nbformat": 4,
 "nbformat_minor": 5
}
