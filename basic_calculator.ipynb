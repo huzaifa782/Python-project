{
 "cells": [
  {
   "cell_type": "code",
   "execution_count": 33,
   "id": "1c6c9dfe",
   "metadata": {},
   "outputs": [
    {
     "name": "stdout",
     "output_type": "stream",
     "text": [
      "Select an operation to perform: \n",
      "1. ADD\n",
      "2. SUBTRACT\n",
      "3. MULTIPLY\n",
      "4. DIVIDE\n",
      "4\n",
      "Enter first number: 6\n",
      "Enter second number: 4\n",
      "The Division is 1.5\n"
     ]
    }
   ],
   "source": [
    "print(\"Select an operation to perform: \")\n",
    "print(\"1. ADD\")\n",
    "print(\"2. SUBTRACT\")\n",
    "print(\"3. MULTIPLY\")\n",
    "print(\"4. DIVIDE\")\n",
    "\n",
    "operation = input()\n",
    "\n",
    "if operation == \"1\":\n",
    "    num1 = input(\"Enter first number: \")\n",
    "    num2 = input(\"Enter second number: \")\n",
    "    print(\"The sum is \" + str(int(num1) + int(num2)))\n",
    "    #code for add\n",
    "elif operation == \"2\":\n",
    "    num1 = int(input(\"Enter first number: \"))\n",
    "    num2 = int(input(\"Enter second number: \"))\n",
    "    print(\"The Subtract is\", num1 - num2)\n",
    "    #code for subtract\n",
    "elif operation == \"3\":\n",
    "    num1 = int(input(\"Enter first number: \"))\n",
    "    num2 = int(input(\"Enter second number: \"))\n",
    "    Multiply = num1 * num2\n",
    "    print(\"The Multiply is\", Multiply)\n",
    "     #code for multiply\n",
    "elif operation == \"4\":\n",
    "    num1 = int(input(\"Enter first number: \"))\n",
    "    num2 = int(input(\"Enter second number: \"))\n",
    "# Check for division by zero (optional but recommended)\n",
    "if num2 == 0:\n",
    "    print(\"Error: Division by zero is not allowed.\")\n",
    "else:\n",
    "    result = float(num1) / num2  # Convert to float for precise division\n",
    "    print(\"The Division is\", result)\n",
    "    #code for divide\n"
   ]
  },
  {
   "cell_type": "code",
   "execution_count": null,
   "id": "df056bd4",
   "metadata": {},
   "outputs": [],
   "source": []
  },
  {
   "cell_type": "code",
   "execution_count": null,
   "id": "6bd5f2c6",
   "metadata": {},
   "outputs": [],
   "source": []
  }
 ],
 "metadata": {
  "kernelspec": {
   "display_name": "Python 3 (ipykernel)",
   "language": "python",
   "name": "python3"
  },
  "language_info": {
   "codemirror_mode": {
    "name": "ipython",
    "version": 3
   },
   "file_extension": ".py",
   "mimetype": "text/x-python",
   "name": "python",
   "nbconvert_exporter": "python",
   "pygments_lexer": "ipython3",
   "version": "3.11.5"
  }
 },
 "nbformat": 4,
 "nbformat_minor": 5
}
