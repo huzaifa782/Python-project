{
 "cells": [
  {
   "cell_type": "code",
   "execution_count": 3,
   "id": "be749da3",
   "metadata": {},
   "outputs": [
    {
     "name": "stdout",
     "output_type": "stream",
     "text": [
      "SAYLANI MASS IT TRAINING(SMIT)\n",
      "\n",
      "**SAYLANI MASS IT TRAINING(SMIT) - Latest Courses**\n",
      "- Course: Python Programming\n",
      "\t- Faculty Member: QASIM HASSAN\n",
      "\t- Timing: 9 TO 11pm\n",
      "\n",
      "- Course: Data engenierring\n",
      "\t- Faculty Member: QASIM HASSAN\n",
      "\t- Timing: 3 TO 5pm\n",
      "\n",
      "\n",
      "**Total Admissions: 100**\n",
      "Total Expense: 52375.00 Rupees\n"
     ]
    }
   ],
   "source": [
    "class SaylaniAdmissions:\n",
    "\n",
    "    def __init__(self, institute_name, contact_info):\n",
    "        \"\"\"\n",
    "        SaylaniAdmissions class constructor that takes the institute name and contact information.\n",
    "        \"\"\"\n",
    "        self.institute_name = institute_name\n",
    "        self.contact_info = contact_info\n",
    "        self.courses_launch = {}  # Dictionary for course launch details (course: \"Latest\")\n",
    "        self.faculty_members = {}  # Dictionary for faculty members assigned to courses\n",
    "        self.timings = {}  # Dictionary for course timings\n",
    "\n",
    "    def update_latest_batch(self, course_name, faculty_name, timing):\n",
    "        \"\"\"\n",
    "        Updates course launch, faculty member, and timing for the latest batch.\n",
    "        \"\"\"\n",
    "        self.courses_launch[course_name] = \"Latest\"\n",
    "        self.faculty_members[course_name] = faculty_name\n",
    "        self.timings[course_name] = timing\n",
    "\n",
    "    def print_latest_courses(self):\n",
    "        \"\"\"\n",
    "        Prints the latest courses, their faculty members, and timings.\n",
    "        \"\"\"\n",
    "        print(f\"\\n**{self.institute_name} - Latest Courses**\")\n",
    "        for course, details in self.courses_launch.items():\n",
    "            if details == \"Latest\":\n",
    "                faculty = self.faculty_members.get(course)\n",
    "                timing = self.timings.get(course)\n",
    "                print(f\"- Course: {course}\")\n",
    "                print(f\"\\t- Faculty Member: {faculty}\")\n",
    "                print(f\"\\t- Timing: {timing}\\n\")\n",
    "\n",
    "    def calculate_admission_budget(self, total_registrations):\n",
    "        \"\"\"\n",
    "        Calculates the admission budget based on total registrations and a fixed cost per student.\n",
    "        \"\"\"\n",
    "        total_expense = total_registrations * 523.75\n",
    "        print(f\"\\n**Total Admissions: {total_registrations}**\")\n",
    "        print(f\"Total Expense: {total_expense:.2f} Rupees\")\n",
    "        \n",
    "saylani_institute = SaylaniAdmissions(\"SAYLANI MASS IT TRAINING(SMIT)\", \"021-12345678\")\n",
    "saylani_institute.update_latest_batch(\"Python Programming\", \"QASIM HASSAN\", \"9 TO 11pm\")\n",
    "saylani_institute.update_latest_batch(\"Data engenierring\" , \"QASIM HASSAN\", \"3 TO 5pm\")\n",
    "\n",
    "print(saylani_institute.institute_name)\n",
    "saylani_institute.print_latest_courses()\n",
    "saylani_institute.calculate_admission_budget(100)\n"
   ]
  },
  {
   "cell_type": "code",
   "execution_count": null,
   "id": "01a98f95",
   "metadata": {},
   "outputs": [],
   "source": []
  }
 ],
 "metadata": {
  "kernelspec": {
   "display_name": "Python 3 (ipykernel)",
   "language": "python",
   "name": "python3"
  },
  "language_info": {
   "codemirror_mode": {
    "name": "ipython",
    "version": 3
   },
   "file_extension": ".py",
   "mimetype": "text/x-python",
   "name": "python",
   "nbconvert_exporter": "python",
   "pygments_lexer": "ipython3",
   "version": "3.11.5"
  }
 },
 "nbformat": 4,
 "nbformat_minor": 5
}
